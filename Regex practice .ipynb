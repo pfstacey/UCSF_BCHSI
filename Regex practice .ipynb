{
 "cells": [
  {
   "cell_type": "code",
   "execution_count": 65,
   "metadata": {},
   "outputs": [],
   "source": [
    "import re"
   ]
  },
  {
   "cell_type": "code",
   "execution_count": 66,
   "metadata": {},
   "outputs": [],
   "source": [
    "# Function\tDescription\n",
    "# findall\tReturns a list containing all matches\n",
    "# search\tReturns a Match object if there is a match anywhere in the string\n",
    "# split\tReturns a list where the string has been split at each match\n",
    "# sub\tReplaces one or many matches with a string\n",
    "\n",
    "# []\tA set of characters\t\"[a-m]\"\t\n",
    "# \\\tSignals a special sequence (can also be used to escape special characters)\t\"\\d\"\t\n",
    "# .\tAny character (except newline character)\t\"he..o\"\t\n",
    "# ^\tStarts with\t\"^hello\"\t\n",
    "# $\tEnds with\t\"planet$\"\t\n",
    "# *\tZero or more occurrences\t\"he.*o\"\t\n",
    "# +\tOne or more occurrences\t\"he.+o\"\t\n",
    "# ?\tZero or one occurrences\t\"he.?o\"\t\n",
    "# {}\tExactly the specified number of occurrences\t\"he.{2}o\"\t\n",
    "# |\tEither or\t\"falls|stays\"\t\n",
    "# ()\tCapture and group\n",
    "\n",
    "# Ctakes - default clinical pipeline - check out how it looks \n",
    "\n",
    "# practice for regular expressions: \n",
    "txt = \"The rain in Spain\"\n",
    "x = re.search(\"^The.*Spain$\", txt)"
   ]
  },
  {
   "cell_type": "markdown",
   "metadata": {},
   "source": [
    "List of possible section headers from the first 5 files: \n",
    "\n",
    "'Narrative History', 'Problems', 'Medications', 'Allergies', 'Vital Signs', 'Physical Exam', 'Assessment and Plan', 'Family History', 'Review of Systems', 'Health maintenance', 'Assessment and Plan', 'Social History'"
   ]
  },
  {
   "cell_type": "code",
   "execution_count": 67,
   "metadata": {},
   "outputs": [],
   "source": [
    "from bs4 import BeautifulSoup \n",
    "\n",
    "# Reading the data inside the xml file to a variable under the name  data\n",
    "with open('training-PHI-Gold-Set1/220-03.xml', 'r') as f:\n",
    "    data = f.read() "
   ]
  },
  {
   "cell_type": "code",
   "execution_count": 68,
   "metadata": {},
   "outputs": [],
   "source": [
    "header_lst = ['Narrative History', 'Problems', 'Medications', 'Allergies', 'Vital Signs', 'Physical Exam', 'Assessment and Plan', 'Family History', 'Review of Systems', 'Health maintenance', 'Assessment and Plan', 'Social History']"
   ]
  },
  {
   "cell_type": "code",
   "execution_count": 69,
   "metadata": {},
   "outputs": [],
   "source": [
    "header_lst = ['Narrative History', 'Problems', 'Medications', 'Allergies', 'Vital Signs', 'Physical Exam', 'Assessment and Plan', 'Family History', 'Review of Systems', 'Health maintenance', 'Assessment and Plan', 'Social History']"
   ]
  },
  {
   "cell_type": "code",
   "execution_count": 70,
   "metadata": {
    "scrolled": true
   },
   "outputs": [
    {
     "name": "stdout",
     "output_type": "stream",
     "text": [
      "93-110: Narrative History\n",
      "462-470: Problems\n",
      "1685-1696: Medications\n",
      "2034-2043: Allergies\n",
      "2074-2088: Family History\n",
      "2314-2328: Social History\n",
      "2413-2430: Review of Systems\n",
      "2658-2671: Physical Exam\n",
      "2677-2688: Vital signs\n",
      "3262-3280: Health maintenance\n",
      "3674-3693: Assessment and Plan\n"
     ]
    }
   ],
   "source": [
    "for m in re.finditer(r\"[^.  ](?=(\"+'|'.join(header_lst)+r\"))\", data, re.IGNORECASE):\n",
    "    print('%02d-%02d: %s' % (m.start(), m.start()+len(m.group(1)), m.group(1)))"
   ]
  },
  {
   "cell_type": "markdown",
   "metadata": {},
   "source": [
    "List of headers, format #2\n",
    "\n",
    "Section headers: 'Team 1 Intern Admission Note', 'HPI', 'Meds', 'LABS', 'Plan', 'EKG', 'CXR', 'Social History', 'Physical Examination', 'Impression.*', 'Problem #\\s*\\d', 'Reason for visit', 'Interval History', 'Family history'"
   ]
  },
  {
   "cell_type": "code",
   "execution_count": 71,
   "metadata": {},
   "outputs": [
    {
     "name": "stdout",
     "output_type": "stream",
     "text": [
      "211-221: Problem #1\n",
      "429-439: Problem #2\n",
      "697-708: Problem # 3\n",
      "741-751: Problem #4\n",
      "814-825: Problem # 5\n",
      "891-902: Problem # 6\n",
      "1049-1063: Social History\n",
      "1513-1533: Physical Examination\n",
      "1977-1987: Impression\n"
     ]
    }
   ],
   "source": [
    "with open('training-PHI-Gold-Set1/221-02.xml', 'r') as f:\n",
    "    data_2 = f.read() \n",
    "\n",
    "header_lst_format_2 = ['Team 1 Intern Admission Note', 'HPI', 'Meds', 'LABS', 'Plan', 'EKG', 'CXR', 'Social History', 'Physical Examination', 'Impression', 'Problem #\\s*\\d', 'Reason for visit', 'Interval History', 'Family history']\n",
    "    \n",
    "for m in re.finditer(r\"[^.  ](?=(\"+'|'.join(header_lst_format_2)+r\"))\", data_2, re.IGNORECASE):\n",
    "    print('%02d-%02d: %s' % (m.start(), m.start()+len(m.group(1)), m.group(1)))"
   ]
  },
  {
   "cell_type": "code",
   "execution_count": 72,
   "metadata": {},
   "outputs": [],
   "source": [
    "sans_newline = re.sub(\"\\n\", \" \", data_2)"
   ]
  },
  {
   "cell_type": "code",
   "execution_count": 75,
   "metadata": {},
   "outputs": [
    {
     "name": "stdout",
     "output_type": "stream",
     "text": [
      "212-222: Problem #1\n",
      "430-440: Problem #2\n",
      "698-709: Problem # 3\n",
      "742-752: Problem #4\n",
      "815-826: Problem # 5\n",
      "892-903: Problem # 6\n",
      "1050-1064: Social History\n",
      "1514-1534: Physical Examination\n",
      "1978-1988: Impression\n",
      "1993-1997: plan\n"
     ]
    }
   ],
   "source": [
    "for m in re.finditer(r\"(?=(\"+'|'.join(header_lst_format_2)+r\"))\", sans_newline, re.IGNORECASE):\n",
    "    print('%02d-%02d: %s' % (m.start(), m.start()+len(m.group(1)), m.group(1)))"
   ]
  }
 ],
 "metadata": {
  "kernelspec": {
   "display_name": "Python 3",
   "language": "python",
   "name": "python3"
  },
  "language_info": {
   "codemirror_mode": {
    "name": "ipython",
    "version": 3
   },
   "file_extension": ".py",
   "mimetype": "text/x-python",
   "name": "python",
   "nbconvert_exporter": "python",
   "pygments_lexer": "ipython3",
   "version": "3.7.6"
  }
 },
 "nbformat": 4,
 "nbformat_minor": 4
}
